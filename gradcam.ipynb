{
 "cells": [
  {
   "cell_type": "markdown",
   "metadata": {},
   "source": [
    "# Grad-Cam Results"
   ]
  },
  {
   "cell_type": "code",
   "execution_count": 1,
   "metadata": {},
   "outputs": [
    {
     "name": "stdout",
     "output_type": "stream",
     "text": [
      "Requirement already satisfied: pandas in ./.venv/lib/python3.11/site-packages (2.2.3)\n",
      "Requirement already satisfied: torch in ./.venv/lib/python3.11/site-packages (2.6.0)\n",
      "Requirement already satisfied: pytorch-lightning==1.8.6 in ./.venv/lib/python3.11/site-packages (1.8.6)\n",
      "Requirement already satisfied: lightning-lite in ./.venv/lib/python3.11/site-packages (1.8.6)\n",
      "Requirement already satisfied: torchvision in ./.venv/lib/python3.11/site-packages (0.21.0)\n",
      "Requirement already satisfied: scikit-learn in ./.venv/lib/python3.11/site-packages (1.6.1)\n",
      "Requirement already satisfied: matplotlib in ./.venv/lib/python3.11/site-packages (3.10.1)\n",
      "Requirement already satisfied: seaborn in ./.venv/lib/python3.11/site-packages (0.13.2)\n",
      "Requirement already satisfied: opencv-python in ./.venv/lib/python3.11/site-packages (4.11.0.86)\n",
      "Requirement already satisfied: wilds in ./.venv/lib/python3.11/site-packages (2.0.0)\n",
      "Requirement already satisfied: numpy>=1.17.2 in ./.venv/lib/python3.11/site-packages (from pytorch-lightning==1.8.6) (2.1.3)\n",
      "Requirement already satisfied: tqdm>=4.57.0 in ./.venv/lib/python3.11/site-packages (from pytorch-lightning==1.8.6) (4.67.0)\n",
      "Requirement already satisfied: PyYAML>=5.4 in ./.venv/lib/python3.11/site-packages (from pytorch-lightning==1.8.6) (6.0.2)\n",
      "Requirement already satisfied: fsspec>2021.06.0 in ./.venv/lib/python3.11/site-packages (from fsspec[http]>2021.06.0->pytorch-lightning==1.8.6) (2024.10.0)\n",
      "Requirement already satisfied: tensorboardX>=2.2 in ./.venv/lib/python3.11/site-packages (from pytorch-lightning==1.8.6) (2.6.2.2)\n",
      "Requirement already satisfied: torchmetrics>=0.7.0 in ./.venv/lib/python3.11/site-packages (from pytorch-lightning==1.8.6) (1.6.0)\n",
      "Requirement already satisfied: packaging>=17.0 in ./.venv/lib/python3.11/site-packages (from pytorch-lightning==1.8.6) (24.2)\n",
      "Requirement already satisfied: typing-extensions>=4.0.0 in ./.venv/lib/python3.11/site-packages (from pytorch-lightning==1.8.6) (4.12.2)\n",
      "Requirement already satisfied: lightning-utilities!=0.4.0,>=0.3.0 in ./.venv/lib/python3.11/site-packages (from pytorch-lightning==1.8.6) (0.11.8)\n",
      "Requirement already satisfied: python-dateutil>=2.8.2 in ./.venv/lib/python3.11/site-packages (from pandas) (2.9.0.post0)\n",
      "Requirement already satisfied: pytz>=2020.1 in ./.venv/lib/python3.11/site-packages (from pandas) (2024.2)\n",
      "Requirement already satisfied: tzdata>=2022.7 in ./.venv/lib/python3.11/site-packages (from pandas) (2024.2)\n",
      "Requirement already satisfied: filelock in ./.venv/lib/python3.11/site-packages (from torch) (3.16.1)\n",
      "Requirement already satisfied: networkx in ./.venv/lib/python3.11/site-packages (from torch) (3.4.2)\n",
      "Requirement already satisfied: jinja2 in ./.venv/lib/python3.11/site-packages (from torch) (3.1.4)\n",
      "Requirement already satisfied: nvidia-cuda-nvrtc-cu12==12.4.127 in ./.venv/lib/python3.11/site-packages (from torch) (12.4.127)\n",
      "Requirement already satisfied: nvidia-cuda-runtime-cu12==12.4.127 in ./.venv/lib/python3.11/site-packages (from torch) (12.4.127)\n",
      "Requirement already satisfied: nvidia-cuda-cupti-cu12==12.4.127 in ./.venv/lib/python3.11/site-packages (from torch) (12.4.127)\n",
      "Requirement already satisfied: nvidia-cudnn-cu12==9.1.0.70 in ./.venv/lib/python3.11/site-packages (from torch) (9.1.0.70)\n",
      "Requirement already satisfied: nvidia-cublas-cu12==12.4.5.8 in ./.venv/lib/python3.11/site-packages (from torch) (12.4.5.8)\n",
      "Requirement already satisfied: nvidia-cufft-cu12==11.2.1.3 in ./.venv/lib/python3.11/site-packages (from torch) (11.2.1.3)\n",
      "Requirement already satisfied: nvidia-curand-cu12==10.3.5.147 in ./.venv/lib/python3.11/site-packages (from torch) (10.3.5.147)\n",
      "Requirement already satisfied: nvidia-cusolver-cu12==11.6.1.9 in ./.venv/lib/python3.11/site-packages (from torch) (11.6.1.9)\n",
      "Requirement already satisfied: nvidia-cusparse-cu12==12.3.1.170 in ./.venv/lib/python3.11/site-packages (from torch) (12.3.1.170)\n",
      "Requirement already satisfied: nvidia-cusparselt-cu12==0.6.2 in ./.venv/lib/python3.11/site-packages (from torch) (0.6.2)\n",
      "Requirement already satisfied: nvidia-nccl-cu12==2.21.5 in ./.venv/lib/python3.11/site-packages (from torch) (2.21.5)\n",
      "Requirement already satisfied: nvidia-nvtx-cu12==12.4.127 in ./.venv/lib/python3.11/site-packages (from torch) (12.4.127)\n",
      "Requirement already satisfied: nvidia-nvjitlink-cu12==12.4.127 in ./.venv/lib/python3.11/site-packages (from torch) (12.4.127)\n",
      "Requirement already satisfied: triton==3.2.0 in ./.venv/lib/python3.11/site-packages (from torch) (3.2.0)\n",
      "Requirement already satisfied: sympy==1.13.1 in ./.venv/lib/python3.11/site-packages (from torch) (1.13.1)\n",
      "Requirement already satisfied: mpmath<1.4,>=1.1.0 in ./.venv/lib/python3.11/site-packages (from sympy==1.13.1->torch) (1.3.0)\n",
      "Requirement already satisfied: pillow!=8.3.*,>=5.3.0 in ./.venv/lib/python3.11/site-packages (from torchvision) (11.1.0)\n",
      "Requirement already satisfied: scipy>=1.6.0 in ./.venv/lib/python3.11/site-packages (from scikit-learn) (1.15.2)\n",
      "Requirement already satisfied: joblib>=1.2.0 in ./.venv/lib/python3.11/site-packages (from scikit-learn) (1.4.2)\n",
      "Requirement already satisfied: threadpoolctl>=3.1.0 in ./.venv/lib/python3.11/site-packages (from scikit-learn) (3.6.0)\n",
      "Requirement already satisfied: contourpy>=1.0.1 in ./.venv/lib/python3.11/site-packages (from matplotlib) (1.3.1)\n",
      "Requirement already satisfied: cycler>=0.10 in ./.venv/lib/python3.11/site-packages (from matplotlib) (0.12.1)\n",
      "Requirement already satisfied: fonttools>=4.22.0 in ./.venv/lib/python3.11/site-packages (from matplotlib) (4.57.0)\n",
      "Requirement already satisfied: kiwisolver>=1.3.1 in ./.venv/lib/python3.11/site-packages (from matplotlib) (1.4.8)\n",
      "Requirement already satisfied: pyparsing>=2.3.1 in ./.venv/lib/python3.11/site-packages (from matplotlib) (3.2.3)\n",
      "Requirement already satisfied: ogb>=1.2.6 in ./.venv/lib/python3.11/site-packages (from wilds) (1.3.6)\n",
      "Requirement already satisfied: outdated>=0.2.0 in ./.venv/lib/python3.11/site-packages (from wilds) (0.2.2)\n",
      "Requirement already satisfied: aiohttp!=4.0.0a0,!=4.0.0a1 in ./.venv/lib/python3.11/site-packages (from fsspec[http]>2021.06.0->pytorch-lightning==1.8.6) (3.11.4)\n",
      "Requirement already satisfied: setuptools in ./.venv/lib/python3.11/site-packages (from lightning-utilities!=0.4.0,>=0.3.0->pytorch-lightning==1.8.6) (65.5.0)\n",
      "Requirement already satisfied: six>=1.12.0 in ./.venv/lib/python3.11/site-packages (from ogb>=1.2.6->wilds) (1.16.0)\n",
      "Requirement already satisfied: urllib3>=1.24.0 in ./.venv/lib/python3.11/site-packages (from ogb>=1.2.6->wilds) (2.3.0)\n",
      "Requirement already satisfied: littleutils in ./.venv/lib/python3.11/site-packages (from outdated>=0.2.0->wilds) (0.2.4)\n",
      "Requirement already satisfied: requests in ./.venv/lib/python3.11/site-packages (from outdated>=0.2.0->wilds) (2.32.3)\n",
      "Requirement already satisfied: protobuf>=3.20 in ./.venv/lib/python3.11/site-packages (from tensorboardX>=2.2->pytorch-lightning==1.8.6) (5.28.3)\n",
      "Requirement already satisfied: MarkupSafe>=2.0 in ./.venv/lib/python3.11/site-packages (from jinja2->torch) (3.0.2)\n",
      "Requirement already satisfied: aiohappyeyeballs>=2.3.0 in ./.venv/lib/python3.11/site-packages (from aiohttp!=4.0.0a0,!=4.0.0a1->fsspec[http]>2021.06.0->pytorch-lightning==1.8.6) (2.4.3)\n",
      "Requirement already satisfied: aiosignal>=1.1.2 in ./.venv/lib/python3.11/site-packages (from aiohttp!=4.0.0a0,!=4.0.0a1->fsspec[http]>2021.06.0->pytorch-lightning==1.8.6) (1.3.1)\n",
      "Requirement already satisfied: attrs>=17.3.0 in ./.venv/lib/python3.11/site-packages (from aiohttp!=4.0.0a0,!=4.0.0a1->fsspec[http]>2021.06.0->pytorch-lightning==1.8.6) (24.2.0)\n",
      "Requirement already satisfied: frozenlist>=1.1.1 in ./.venv/lib/python3.11/site-packages (from aiohttp!=4.0.0a0,!=4.0.0a1->fsspec[http]>2021.06.0->pytorch-lightning==1.8.6) (1.5.0)\n",
      "Requirement already satisfied: multidict<7.0,>=4.5 in ./.venv/lib/python3.11/site-packages (from aiohttp!=4.0.0a0,!=4.0.0a1->fsspec[http]>2021.06.0->pytorch-lightning==1.8.6) (6.1.0)\n",
      "Requirement already satisfied: propcache>=0.2.0 in ./.venv/lib/python3.11/site-packages (from aiohttp!=4.0.0a0,!=4.0.0a1->fsspec[http]>2021.06.0->pytorch-lightning==1.8.6) (0.2.0)\n",
      "Requirement already satisfied: yarl<2.0,>=1.17.0 in ./.venv/lib/python3.11/site-packages (from aiohttp!=4.0.0a0,!=4.0.0a1->fsspec[http]>2021.06.0->pytorch-lightning==1.8.6) (1.17.2)\n",
      "Requirement already satisfied: charset-normalizer<4,>=2 in ./.venv/lib/python3.11/site-packages (from requests->outdated>=0.2.0->wilds) (3.4.1)\n",
      "Requirement already satisfied: idna<4,>=2.5 in ./.venv/lib/python3.11/site-packages (from requests->outdated>=0.2.0->wilds) (3.10)\n",
      "Requirement already satisfied: certifi>=2017.4.17 in ./.venv/lib/python3.11/site-packages (from requests->outdated>=0.2.0->wilds) (2025.1.31)\n",
      "\n",
      "\u001b[1m[\u001b[0m\u001b[34;49mnotice\u001b[0m\u001b[1;39;49m]\u001b[0m\u001b[39;49m A new release of pip is available: \u001b[0m\u001b[31;49m24.3.1\u001b[0m\u001b[39;49m -> \u001b[0m\u001b[32;49m25.0.1\u001b[0m\n",
      "\u001b[1m[\u001b[0m\u001b[34;49mnotice\u001b[0m\u001b[1;39;49m]\u001b[0m\u001b[39;49m To update, run: \u001b[0m\u001b[32;49mpip install --upgrade pip\u001b[0m\n",
      "Note: you may need to restart the kernel to use updated packages.\n"
     ]
    }
   ],
   "source": [
    "%pip install pandas torch pytorch-lightning==1.8.6 lightning-lite torchvision scikit-learn matplotlib seaborn opencv-python wilds"
   ]
  },
  {
   "cell_type": "code",
   "execution_count": 2,
   "metadata": {},
   "outputs": [
    {
     "name": "stderr",
     "output_type": "stream",
     "text": [
      "/home/htc/kchitranshi/learning-from-adversarial-perturbations/.venv/lib/python3.11/site-packages/tqdm/auto.py:21: TqdmWarning: IProgress not found. Please update jupyter and ipywidgets. See https://ipywidgets.readthedocs.io/en/stable/user_install.html\n",
      "  from .autonotebook import tqdm as notebook_tqdm\n"
     ]
    }
   ],
   "source": [
    "import torch\n",
    "import torchvision.transforms as T\n",
    "import torch.nn as nn\n",
    "import torch.nn.functional as F\n",
    "import torchvision\n",
    "from collections import OrderedDict\n",
    "import numpy as np\n",
    "import matplotlib.pyplot as plt\n",
    "import cv2\n",
    "from wilds import get_dataset\n",
    "from torchvision.transforms import ToTensor, Normalize, Compose, CenterCrop, Resize\n",
    "from torchvision.models import vgg16\n",
    "from utils.datasets import BinaryDataset"
   ]
  },
  {
   "cell_type": "code",
   "execution_count": 4,
   "metadata": {},
   "outputs": [],
   "source": [
    "class VGGWithGradCAM(torch.nn.Module):\n",
    "    def __init__(self, model):\n",
    "        super(VGGWithGradCAM, self).__init__()\n",
    "        \n",
    "        # get the pretrained VGG19 network\n",
    "        self.vgg = model\n",
    "        \n",
    "        # disect the network to access its last convolutional layer\n",
    "        self.features_conv = self.vgg.features[:30]\n",
    "        \n",
    "        # get the max pool of the features stem\n",
    "        self.max_pool = nn.MaxPool2d(kernel_size=2, stride=2, padding=0, dilation=1, ceil_mode=False)\n",
    "        \n",
    "        # get the classifier of the vgg19\n",
    "        self.classifier = self.vgg.classifier\n",
    "        \n",
    "        # placeholder for the gradients\n",
    "        self.gradients = None\n",
    "    \n",
    "    # hook for the gradients of the activations\n",
    "    def activations_hook(self, grad):\n",
    "        self.gradients = grad\n",
    "        \n",
    "    def forward(self, x):\n",
    "        x = self.features_conv(x)\n",
    "        \n",
    "        # register the hook\n",
    "        h = x.register_hook(self.activations_hook)\n",
    "        \n",
    "        # apply the remaining pooling\n",
    "        x = self.max_pool(x)\n",
    "        x = x.view((1, -1))\n",
    "        x = self.classifier(x)\n",
    "        return x\n",
    "    \n",
    "    # method for the gradient extraction\n",
    "    def get_activations_gradient(self):\n",
    "        return self.gradients\n",
    "    \n",
    "    # method for the activation exctraction\n",
    "    def get_activations(self, x):\n",
    "        return self.features_conv(x)"
   ]
  },
  {
   "cell_type": "code",
   "execution_count": 9,
   "metadata": {},
   "outputs": [
    {
     "name": "stdout",
     "output_type": "stream",
     "text": [
      "heatmaps/WaterBirds_Original_Waterbird.jpg\n",
      "Predicted label: -0.64, True label: 1\n"
     ]
    },
    {
     "name": "stderr",
     "output_type": "stream",
     "text": [
      "/tmp/ipykernel_39669/406962495.py:46: DeprecationWarning: __array_wrap__ must accept context and return_scalar arguments (positionally) in the future. (Deprecated NumPy 2.0)\n",
      "  heatmap = np.maximum(heatmap, 0)\n"
     ]
    },
    {
     "data": {
      "image/png": "[encoded data removed]",
      "text/plain": [
       "<Figure size 480x480 with 2 Axes>"
      ]
     },
     "metadata": {},
     "output_type": "display_data"
    }
   ],
   "source": [
    "\n",
    "if __name__ == \"__main__\":\n",
    "    transform = Compose([\n",
    "        Resize((224,224)),\n",
    "        ToTensor(),\n",
    "        Normalize(mean=[0.485, 0.456, 0.406], std=[0.229, 0.224, 0.225])\n",
    "    ])\n",
    "\n",
    "    main_dataset = get_dataset(dataset=\"waterbirds\", download=False,root_dir='../SCRATCH/')\n",
    "    data = main_dataset.get_subset(\"val\", transform=transform)\n",
    "    data = BinaryDataset(data,which_dataset='waterbirds')\n",
    "    \n",
    "    data_to_visualize = main_dataset.get_subset(\"val\", transform=None)\n",
    "    data_loader = torch.utils.data.DataLoader(data, batch_size=1, shuffle=False, num_workers=2)\n",
    "\n",
    "    norm = \"Original\"\n",
    "    state_dict = torch.load(f\"./models/waterbirds_clean_73fb1786-993c-4fff-8552-988db4db2982.pt\", map_location='cpu', weights_only=False)\n",
    "    state_dict = OrderedDict((k.replace('model.model.', '', 1), v) for k, v in state_dict.items())\n",
    "    \n",
    "    vgg16_model = vgg16().cuda()\n",
    "    vgg16_model.classifier[6] = nn.Linear(vgg16_model.classifier[6].in_features,1)\n",
    "    \n",
    "    vgg16_model.load_state_dict(state_dict)\n",
    "    model = VGGWithGradCAM(vgg16_model).cuda()\n",
    "    model.zero_grad()\n",
    "    model.eval()\n",
    "\n",
    "    sample_idx = 345\n",
    "    iter_dataloader = iter(data_loader)\n",
    "    for i in range(sample_idx + 1):\n",
    "        img, target = next(iter_dataloader)\n",
    "\n",
    "    Class = 'Landbird' if target.float() == -1 else 'Waterbird' \n",
    "    model.zero_grad()\n",
    "    pred = model(img.cuda())\n",
    "    predi = pred * target.cuda()\n",
    "    predi.backward()\n",
    "\n",
    "    gradients = model.get_activations_gradient()\n",
    "    pooled_gradients = torch.mean(gradients, dim=[0, 2, 3])\n",
    "    activations = model.get_activations(img.cuda()).detach()\n",
    "\n",
    "    for i in range(activations.size(1)):\n",
    "        activations[:, i, :, :] *= pooled_gradients[i]\n",
    "    \n",
    "    heatmap = torch.mean(activations.cpu(), dim=1).squeeze()\n",
    "    heatmap = np.maximum(heatmap, 0)\n",
    "    heatmap /= torch.max(heatmap)\n",
    "    \n",
    "    plt.matshow(heatmap.squeeze())\n",
    "    plt.colorbar()\n",
    "    \n",
    "    raw_image = data_to_visualize[sample_idx][0]\n",
    "    #raw_image_tensor = torchvision.transforms.ToPILImage()(raw_image_tensor)\n",
    "    raw_image.save(f'results/GradCAM/WaterBirds/WaterBirds_Original_{Class}.jpg')\n",
    "    \n",
    "    img = cv2.imread(f'results/GradCAM/WaterBirds/WaterBirds_Original_{Class}.jpg')\n",
    "    heatmap = cv2.resize(heatmap.numpy(), (img.shape[1], img.shape[0]))\n",
    "    heatmap = np.uint8(255 * heatmap)\n",
    "    heatmap = cv2.applyColorMap(heatmap, cv2.COLORMAP_JET)\n",
    "    superimposed_img = heatmap * 0.4 + img\n",
    "    cv2.imwrite(f'results/GradCAM/WaterBirds/WaterBirds_{norm}_{Class}_heatmap.jpg', superimposed_img)\n",
    "\n",
    "    predicted_label = 1 if pred.item() > 0 else -1\n",
    "    print(f'heatmaps/WaterBirds_Original_{Class}.jpg')\n",
    "    print(f\"Predicted label: {pred.item():.2f}, True label: {target.item()}\")"
   ]
  }
 ],
 "metadata": {
  "kernelspec": {
   "display_name": ".venv",
   "language": "python",
   "name": "python3"
  },
  "language_info": {
   "codemirror_mode": {
    "name": "ipython",
    "version": 3
   },
   "file_extension": ".py",
   "mimetype": "text/x-python",
   "name": "python",
   "nbconvert_exporter": "python",
   "pygments_lexer": "ipython3",
   "version": "3.11.11"
  }
 },
 "nbformat": 4,
 "nbformat_minor": 2
}
