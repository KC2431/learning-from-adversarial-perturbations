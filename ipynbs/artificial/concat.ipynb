{
 "cells": [
  {
   "cell_type": "code",
   "execution_count": 1,
   "metadata": {},
   "outputs": [],
   "source": [
    "import os\n",
    "\n",
    "import pypdf\n",
    "\n",
    "padding = 10\n",
    "\n",
    "fig_root = os.path.join('..', '..', 'figs')\n",
    "\n",
    "left_img_path = os.path.join(fig_root, 'decision_map.pdf')\n",
    "p1 = pypdf.PdfReader(left_img_path).pages[0]\n",
    "\n",
    "right_img_path = os.path.join(fig_root, 'decision_maps_L2_uniform_two.pdf')\n",
    "p2 = pypdf.PdfReader(right_img_path).pages[0]\n",
    "\n",
    "height_1 = p1.mediabox.top\n",
    "height_2 = p2.mediabox.top\n",
    "height = max(height_1, height_2)\n",
    "\n",
    "scale = height_2 / height_1\n",
    "op = pypdf.Transformation().scale(sx=scale, sy=scale)\n",
    "p1.add_transformation(op)\n",
    "p1.mediabox.top = height_1 * scale\n",
    "p1.mediabox.right = p1.mediabox.right * scale\n",
    "\n",
    "op = pypdf.Transformation().translate(tx=p1.mediabox.right + padding)\n",
    "p2.add_transformation(op)\n",
    "p2.mediabox.left = p1.mediabox.right + padding\n",
    "p2.mediabox.right += p1.mediabox.right + padding\n",
    "\n",
    "page = pypdf.PageObject.create_blank_page(width=p2.mediabox.right, height=height)\n",
    "page.merge_page(p1)\n",
    "page.merge_page(p2)\n",
    "\n",
    "writer = pypdf.PdfWriter()\n",
    "writer.add_page(page)\n",
    "\n",
    "out_path = os.path.join(fig_root, 'decision_map_merge.pdf')\n",
    "with open(out_path, mode='wb') as f:\n",
    "    writer.write(f)"
   ]
  }
 ],
 "metadata": {
  "kernelspec": {
   "display_name": "Python 3",
   "language": "python",
   "name": "python3"
  },
  "language_info": {
   "codemirror_mode": {
    "name": "ipython",
    "version": 3
   },
   "file_extension": ".py",
   "mimetype": "text/x-python",
   "name": "python",
   "nbconvert_exporter": "python",
   "pygments_lexer": "ipython3",
   "version": "3.8.10"
  },
  "orig_nbformat": 4
 },
 "nbformat": 4,
 "nbformat_minor": 2
}
