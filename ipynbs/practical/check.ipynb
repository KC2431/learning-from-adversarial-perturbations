{
 "cells": [
  {
   "cell_type": "markdown",
   "metadata": {},
   "source": [
    "We examine the predictions of normally trained classifiers for adversarial perturbations on natural samples or uniform noises created by `create.py`. Specifically, we assess whether:\n",
    "- The adversarial attacks we implemented work as intended.\n",
    "- The adversarial datasets in each scenario successfully mislead the classifiers.\n",
    "    - Notably, certain adversarial images failed to deceive the classifiers, possibly because of learning bias, architectural bias, or suboptimal PGD optimization.\n",
    "\n",
    "For example, we examined the following values.\n",
    "\n",
    "Dataset: CIFAR10  \n",
    "Scenario: natural_det_L2  \n",
    "Accuracy: [0.98 (1), 0.99 (2), ..., 0.99 (10)]\n",
    "\n",
    "(1) Ratio of truck images (with imperceptible L2 perturbations to mislead the classifier into identifying them as planes) classified as planes by the classifier.  \n",
    "(2) Ratio of plane images (with imperceptible L2 perturbations to mislead the classifier into identifying them as cars) classified as cars by the classifier.  \n",
    "(10) Ratio of ship images (with imperceptible L2 perturbations to mislead the classifier into identifying them as trucks) classified as trucks by the classifier.  \n",
    "\n",
    "Dataset: CIFAR10  \n",
    "Scenario: natural_rand_L2  \n",
    "Accuracy: [0.99 (1), ...]\n",
    "\n",
    "(1) Ratio of images that appear as objects other than planes (with imperceptible L2 perturbations to mislead the classifier into identifying them as planes) classified as planes by the classifier.  \n",
    "\n",
    "These results indicate that L2 perturbations on natural samples can effectively fool the classifier.\n",
    "\n",
    "Dataset: CIFAR10  \n",
    "Scenario: uniform_L2  \n",
    "Accuracy: [0.07 (1), 0.00, 0.00, 1.0 (4), ...]\n",
    "\n",
    "(1) Ratio of noises (with imperceptible L2 perturbations to mislead the classifier into identifying them as planes) classified as planes by the classifier.  \n",
    "(4) Ratio of noises (with imperceptible L2 perturbations to mislead the classifier into identifying them as cats) classified as cats by the classifier.  \n",
    "\n",
    "This suggests that while L2 perturbations on noises can successfully mislead the classifier to identify them as cats, they are less effective in doing so for planes."
   ]
  },
  {
   "cell_type": "code",
   "execution_count": 1,
   "metadata": {},
   "outputs": [],
   "source": [
    "import os\n",
    "root = os.path.join('..', '..')"
   ]
  },
  {
   "cell_type": "code",
   "execution_count": 2,
   "metadata": {},
   "outputs": [],
   "source": [
    "import sys\n",
    "sys.path.append(root)"
   ]
  },
  {
   "cell_type": "code",
   "execution_count": 3,
   "metadata": {},
   "outputs": [],
   "source": [
    "from collections import OrderedDict\n",
    "from typing import Literal\n",
    "\n",
    "import torch\n",
    "\n",
    "from utils.classifiers import ConvNet, WideResNet\n",
    "from utils.datasets import CIFAR10, FMNIST, MNIST, SequenceDataset\n",
    "from utils.utils import (CalcClassificationAcc, ModelWithNormalization,\n",
    "                         dataloader, freeze)"
   ]
  },
  {
   "cell_type": "code",
   "execution_count": 4,
   "metadata": {},
   "outputs": [],
   "source": [
    "device = [0]\n",
    "dataset_root = os.path.join(os.path.sep, 'root', 'datasets')"
   ]
  },
  {
   "cell_type": "code",
   "execution_count": 5,
   "metadata": {},
   "outputs": [],
   "source": [
    "class Util:\n",
    "    def __init__(self, dataset_name: Literal['MNIST', 'FMNIST', 'CIFAR10']) -> None:\n",
    "        self.dataset_name = dataset_name\n",
    "        self.classifier = self._define_classifier()\n",
    "        self._load_weight()\n",
    "\n",
    "    def _define_classifier(self) -> ModelWithNormalization:\n",
    "        if self.dataset_name == 'MNIST':\n",
    "            classifier = ConvNet(10)\n",
    "            dataset_cls = MNIST\n",
    "        elif self.dataset_name == 'FMNIST':\n",
    "            classifier = ConvNet(10)\n",
    "            dataset_cls = FMNIST\n",
    "        elif self.dataset_name == 'CIFAR10':\n",
    "            classifier = WideResNet(28, 10, 0.3, 10)\n",
    "            dataset_cls = CIFAR10\n",
    "        else:\n",
    "            raise ValueError(self.dataset_name)\n",
    "        return ModelWithNormalization(classifier, dataset_cls.mean, dataset_cls.std)\n",
    "\n",
    "    def _load_weight(self) -> None:\n",
    "        dir_path = os.path.join(root, 'models', self.dataset_name, 'version_0', 'checkpoints')\n",
    "        ckpt_name = [fname for fname in os.listdir(dir_path) if '.ckpt' in fname][0]\n",
    "        path = os.path.join(dir_path, ckpt_name)\n",
    "\n",
    "        state_dict = torch.load(path, map_location='cpu')['state_dict']\n",
    "        state_dict = OrderedDict((k.replace('classifier.', ''), v) for k, v in state_dict.items())\n",
    "        self.classifier.load_state_dict(state_dict)\n",
    "\n",
    "        freeze(self.classifier)\n",
    "        self.classifier.eval()\n",
    "\n",
    "    def _load_dataset(self, suffix: str) -> SequenceDataset:\n",
    "        p = os.path.join(root, 'datasets', f'{self.dataset_name}_{suffix}', 'dataset')\n",
    "        d = torch.load(p, map_location='cpu')\n",
    "        return SequenceDataset(d['imgs'], d['labels'])\n",
    "    \n",
    "    def test(self, suffix: str) -> None:\n",
    "        print(suffix)\n",
    "\n",
    "        if self.dataset_name in ('MNIST', 'FMNIST'):\n",
    "            batch_size = 60000\n",
    "        elif self.dataset_name == 'CIFAR10':\n",
    "            batch_size = 10000\n",
    "        else:\n",
    "            raise ValueError(self.dataset_name)\n",
    "\n",
    "        d = self._load_dataset(suffix)\n",
    "        loader = dataloader(d, batch_size, False)\n",
    "\n",
    "        acc = CalcClassificationAcc(\n",
    "            accelerator='gpu',\n",
    "            strategy='dp',\n",
    "            devices=device,\n",
    "            precision=16,\n",
    "        ).run(self.classifier, loader, 10, average='none')\n",
    "        print(acc)\n",
    "        print()\n",
    "    \n",
    "    def test_all(self) -> None:\n",
    "        names = [\n",
    "            'natural_rand_L0', \n",
    "            'natural_det_L0',\n",
    "            'natural_rand_L2', \n",
    "            'natural_det_L2',\n",
    "            'natural_rand_Linf', \n",
    "            'natural_det_Linf',\n",
    "            'uniform_L0', \n",
    "            'uniform_L2', \n",
    "            'uniform_Linf', \n",
    "        ]\n",
    "        for n in names:\n",
    "            self.test(n)"
   ]
  },
  {
   "cell_type": "code",
   "execution_count": 6,
   "metadata": {},
   "outputs": [
    {
     "name": "stderr",
     "output_type": "stream",
     "text": [
      "Using 16-bit Automatic Mixed Precision (AMP)\n"
     ]
    },
    {
     "name": "stdout",
     "output_type": "stream",
     "text": [
      "natural_rand_L0\n"
     ]
    },
    {
     "name": "stderr",
     "output_type": "stream",
     "text": [
      "100%|██████████| 1/1 [00:02<00:00,  2.27s/it]\n"
     ]
    },
    {
     "name": "stdout",
     "output_type": "stream",
     "text": [
      "[0.013366336934268475, 0.025553662329912186, 0.02901674620807171, 0.057287417352199554, 0.04490472376346588, 0.06073211133480072, 0.026341622695326805, 0.05843157321214676, 0.06939322501420975, 0.07564016431570053]\n",
      "\n",
      "natural_det_L0\n"
     ]
    },
    {
     "name": "stderr",
     "output_type": "stream",
     "text": [
      "Using 16-bit Automatic Mixed Precision (AMP)\n",
      "100%|██████████| 1/1 [00:01<00:00,  1.39s/it]\n"
     ]
    },
    {
     "name": "stdout",
     "output_type": "stream",
     "text": [
      "[0.01445621158927679, 0.003883167402818799, 0.009789380244910717, 0.08811681717634201, 0.0019572663586586714, 0.020883258432149887, 0.07655414193868637, 0.0, 0.025379089638590813, 0.04836780205368996]\n",
      "\n",
      "natural_rand_L2\n"
     ]
    },
    {
     "name": "stderr",
     "output_type": "stream",
     "text": [
      "Using 16-bit Automatic Mixed Precision (AMP)\n",
      "100%|██████████| 1/1 [00:01<00:00,  1.73s/it]\n"
     ]
    },
    {
     "name": "stdout",
     "output_type": "stream",
     "text": [
      "[0.16518151760101318, 0.1492333859205246, 0.4433758854866028, 0.6368532776832581, 0.3804473876953125, 0.5460898280143738, 0.34996727108955383, 0.3707500398159027, 0.6609118580818176, 0.4642857015132904]\n",
      "\n",
      "natural_det_L2\n"
     ]
    },
    {
     "name": "stderr",
     "output_type": "stream",
     "text": [
      "Using 16-bit Automatic Mixed Precision (AMP)\n",
      "100%|██████████| 1/1 [00:01<00:00,  1.40s/it]\n"
     ]
    },
    {
     "name": "stdout",
     "output_type": "stream",
     "text": [
      "[0.11682635545730591, 0.14823569357395172, 0.6882230639457703, 0.6901645064353943, 0.07029848545789719, 0.504108190536499, 0.35712969303131104, 0.017573503777384758, 0.5577015280723572, 0.3091779053211212]\n",
      "\n",
      "natural_rand_Linf\n"
     ]
    },
    {
     "name": "stderr",
     "output_type": "stream",
     "text": [
      "Using 16-bit Automatic Mixed Precision (AMP)\n",
      "100%|██████████| 1/1 [00:01<00:00,  1.28s/it]\n"
     ]
    },
    {
     "name": "stdout",
     "output_type": "stream",
     "text": [
      "[0.011056105606257915, 0.017035774886608124, 0.030343227088451385, 0.06202056631445885, 0.043413423001766205, 0.04342762008309364, 0.02503272332251072, 0.01964804343879223, 0.06319142132997513, 0.048349056392908096]\n",
      "\n",
      "natural_det_Linf\n"
     ]
    },
    {
     "name": "stderr",
     "output_type": "stream",
     "text": [
      "Using 16-bit Automatic Mixed Precision (AMP)\n",
      "100%|██████████| 1/1 [00:01<00:00,  1.67s/it]\n"
     ]
    },
    {
     "name": "stdout",
     "output_type": "stream",
     "text": [
      "[0.006219532806426287, 0.009792335331439972, 0.025066746398806572, 0.13779792189598083, 0.005382482428103685, 0.031153714284300804, 0.02896144613623619, 0.0005069280159659684, 0.03846767917275429, 0.03913860768079758]\n",
      "\n",
      "uniform_L0\n"
     ]
    },
    {
     "name": "stderr",
     "output_type": "stream",
     "text": [
      "Using 16-bit Automatic Mixed Precision (AMP)\n",
      "100%|██████████| 20/20 [00:08<00:00,  2.43it/s]\n"
     ]
    },
    {
     "name": "stdout",
     "output_type": "stream",
     "text": [
      "[0.0, 0.0, 2.5024606657098047e-05, 0.008678583428263664, 0.002002193359658122, 0.0006218957132659853, 0.0, 0.0005088676698505878, 1.0, 0.0]\n",
      "\n",
      "uniform_L2\n"
     ]
    },
    {
     "name": "stderr",
     "output_type": "stream",
     "text": [
      "Using 16-bit Automatic Mixed Precision (AMP)\n",
      "100%|██████████| 20/20 [00:08<00:00,  2.34it/s]\n"
     ]
    },
    {
     "name": "stdout",
     "output_type": "stream",
     "text": [
      "[0.00029195132083259523, 0.0005647090147249401, 0.9998582005500793, 0.9999916553497314, 1.0, 0.9999419450759888, 0.9699679017066956, 0.9999666213989258, 1.0, 0.01938806101679802]\n",
      "\n",
      "uniform_Linf\n"
     ]
    },
    {
     "name": "stderr",
     "output_type": "stream",
     "text": [
      "Using 16-bit Automatic Mixed Precision (AMP)\n",
      "100%|██████████| 20/20 [00:08<00:00,  2.38it/s]\n"
     ]
    },
    {
     "name": "stdout",
     "output_type": "stream",
     "text": [
      "[0.05436967685818672, 0.01022289413958788, 0.990340530872345, 0.9962663054466248, 0.9986790418624878, 0.9742452502250671, 0.9347004294395447, 0.9922835826873779, 1.0, 0.014872805215418339]\n",
      "\n"
     ]
    }
   ],
   "source": [
    "Util('MNIST').test_all()"
   ]
  },
  {
   "cell_type": "code",
   "execution_count": 7,
   "metadata": {},
   "outputs": [
    {
     "name": "stdout",
     "output_type": "stream",
     "text": [
      "natural_rand_L0\n"
     ]
    },
    {
     "name": "stderr",
     "output_type": "stream",
     "text": [
      "Using 16-bit Automatic Mixed Precision (AMP)\n",
      "100%|██████████| 1/1 [00:01<00:00,  1.22s/it]\n"
     ]
    },
    {
     "name": "stdout",
     "output_type": "stream",
     "text": [
      "[0.3781554102897644, 0.292400598526001, 0.41621533036231995, 0.26822832226753235, 0.5483601093292236, 0.10065645724534988, 0.545543909072876, 0.14194950461387634, 0.4046885669231415, 0.022753890603780746]\n",
      "\n",
      "natural_det_L0\n"
     ]
    },
    {
     "name": "stderr",
     "output_type": "stream",
     "text": [
      "Using 16-bit Automatic Mixed Precision (AMP)\n",
      "100%|██████████| 1/1 [00:01<00:00,  1.23s/it]\n"
     ]
    },
    {
     "name": "stdout",
     "output_type": "stream",
     "text": [
      "[0.4749999940395355, 0.48233333230018616, 0.2018333375453949, 0.33783334493637085, 0.6633333563804626, 0.026000000536441803, 0.4908333420753479, 0.009333333000540733, 0.5958333611488342, 0.005166666582226753]\n",
      "\n",
      "natural_rand_L2\n"
     ]
    },
    {
     "name": "stderr",
     "output_type": "stream",
     "text": [
      "Using 16-bit Automatic Mixed Precision (AMP)\n",
      "100%|██████████| 1/1 [00:01<00:00,  1.22s/it]\n"
     ]
    },
    {
     "name": "stdout",
     "output_type": "stream",
     "text": [
      "[0.9996700286865234, 0.9996644854545593, 0.9968816637992859, 0.9996700882911682, 1.0, 0.9791281223297119, 1.0, 0.8461795449256897, 0.9988021850585938, 0.9588422179222107]\n",
      "\n",
      "natural_det_L2\n"
     ]
    },
    {
     "name": "stderr",
     "output_type": "stream",
     "text": [
      "Using 16-bit Automatic Mixed Precision (AMP)\n",
      "100%|██████████| 1/1 [00:01<00:00,  1.20s/it]\n"
     ]
    },
    {
     "name": "stdout",
     "output_type": "stream",
     "text": [
      "[1.0, 0.999833345413208, 0.9754999876022339, 1.0, 1.0, 0.999666690826416, 1.0, 0.8711666464805603, 1.0, 0.9778333306312561]\n",
      "\n",
      "natural_rand_Linf\n"
     ]
    },
    {
     "name": "stderr",
     "output_type": "stream",
     "text": [
      "Using 16-bit Automatic Mixed Precision (AMP)\n",
      "100%|██████████| 1/1 [00:01<00:00,  1.21s/it]\n"
     ]
    },
    {
     "name": "stdout",
     "output_type": "stream",
     "text": [
      "[0.9879558086395264, 0.9857406616210938, 0.9691449403762817, 0.9767403602600098, 0.98979252576828, 0.9017000794410706, 0.9947575330734253, 0.7206152677536011, 0.980150580406189, 0.8862305283546448]\n",
      "\n",
      "natural_det_Linf\n"
     ]
    },
    {
     "name": "stderr",
     "output_type": "stream",
     "text": [
      "Using 16-bit Automatic Mixed Precision (AMP)\n",
      "100%|██████████| 1/1 [00:01<00:00,  1.21s/it]\n"
     ]
    },
    {
     "name": "stdout",
     "output_type": "stream",
     "text": [
      "[0.9946666955947876, 0.996833324432373, 0.8256666660308838, 0.9934999942779541, 1.0, 0.9366666674613953, 0.999833345413208, 0.7095000147819519, 1.0, 0.8069999814033508]\n",
      "\n",
      "uniform_L0\n"
     ]
    },
    {
     "name": "stderr",
     "output_type": "stream",
     "text": [
      "Using 16-bit Automatic Mixed Precision (AMP)\n",
      "100%|██████████| 20/20 [00:08<00:00,  2.27it/s]\n"
     ]
    },
    {
     "name": "stdout",
     "output_type": "stream",
     "text": [
      "[0.9793548583984375, 0.9898186326026917, 0.9675514101982117, 0.9989141225814819, 0.9999584555625916, 0.3508155047893524, 1.0, 0.00011678929877234623, 1.0, 0.006242905743420124]\n",
      "\n",
      "uniform_L2\n"
     ]
    },
    {
     "name": "stderr",
     "output_type": "stream",
     "text": [
      "Using 16-bit Automatic Mixed Precision (AMP)\n",
      "100%|██████████| 20/20 [00:08<00:00,  2.28it/s]\n"
     ]
    },
    {
     "name": "stdout",
     "output_type": "stream",
     "text": [
      "[1.0, 1.0, 1.0, 1.0, 1.0, 1.0, 1.0, 0.9785107970237732, 1.0, 0.9991152882575989]\n",
      "\n",
      "uniform_Linf\n"
     ]
    },
    {
     "name": "stderr",
     "output_type": "stream",
     "text": [
      "Using 16-bit Automatic Mixed Precision (AMP)\n",
      "100%|██████████| 20/20 [00:08<00:00,  2.34it/s]\n"
     ]
    },
    {
     "name": "stdout",
     "output_type": "stream",
     "text": [
      "[1.0, 0.999717652797699, 1.0, 1.0, 1.0, 0.9807378053665161, 1.0, 0.9213257431983948, 1.0, 0.8664702773094177]\n",
      "\n"
     ]
    }
   ],
   "source": [
    "Util('FMNIST').test_all()"
   ]
  },
  {
   "cell_type": "code",
   "execution_count": 8,
   "metadata": {},
   "outputs": [
    {
     "name": "stdout",
     "output_type": "stream",
     "text": [
      "natural_rand_L0\n"
     ]
    },
    {
     "name": "stderr",
     "output_type": "stream",
     "text": [
      "Using 16-bit Automatic Mixed Precision (AMP)\n",
      "100%|██████████| 5/5 [02:43<00:00, 32.75s/it]\n"
     ]
    },
    {
     "name": "stdout",
     "output_type": "stream",
     "text": [
      "[0.988476037979126, 0.9900099635124207, 0.9836294651031494, 0.981062114238739, 0.9810436367988586, 0.971230149269104, 0.9867036938667297, 0.9698060154914856, 0.9761021733283997, 0.9917852282524109]\n",
      "\n",
      "natural_det_L0\n"
     ]
    },
    {
     "name": "stderr",
     "output_type": "stream",
     "text": [
      "Using 16-bit Automatic Mixed Precision (AMP)\n",
      "100%|██████████| 5/5 [02:43<00:00, 32.68s/it]\n"
     ]
    },
    {
     "name": "stdout",
     "output_type": "stream",
     "text": [
      "[0.9818000197410583, 0.9715999960899353, 0.9377999901771545, 0.9954000115394592, 0.9927999973297119, 0.9959999918937683, 0.995199978351593, 0.9656000137329102, 0.9890000224113464, 0.993399977684021]\n",
      "\n",
      "natural_rand_L2\n"
     ]
    },
    {
     "name": "stderr",
     "output_type": "stream",
     "text": [
      "Using 16-bit Automatic Mixed Precision (AMP)\n",
      "100%|██████████| 5/5 [02:43<00:00, 32.77s/it]\n"
     ]
    },
    {
     "name": "stdout",
     "output_type": "stream",
     "text": [
      "[0.9924498200416565, 0.9902098178863525, 0.9882212281227112, 0.991214394569397, 0.9869547486305237, 0.9912698268890381, 0.978765606880188, 0.9858028292655945, 0.9835187196731567, 0.9975956678390503]\n",
      "\n",
      "natural_det_L2\n"
     ]
    },
    {
     "name": "stderr",
     "output_type": "stream",
     "text": [
      "Using 16-bit Automatic Mixed Precision (AMP)\n",
      "100%|██████████| 5/5 [02:42<00:00, 32.53s/it]\n"
     ]
    },
    {
     "name": "stdout",
     "output_type": "stream",
     "text": [
      "[0.9876000285148621, 0.9927999973297119, 0.9448000192642212, 0.9995999932289124, 1.0, 0.9995999932289124, 0.9980000257492065, 0.9868000149726868, 0.954800009727478, 0.9977999925613403]\n",
      "\n",
      "natural_rand_Linf\n"
     ]
    },
    {
     "name": "stderr",
     "output_type": "stream",
     "text": [
      "Using 16-bit Automatic Mixed Precision (AMP)\n",
      "100%|██████████| 5/5 [02:43<00:00, 32.68s/it]\n"
     ]
    },
    {
     "name": "stdout",
     "output_type": "stream",
     "text": [
      "[0.9998013377189636, 0.9998002052307129, 0.9998003840446472, 0.9994142651557922, 0.9993885159492493, 1.0, 0.9992061853408813, 0.9996000528335571, 0.9997940063476562, 1.0]\n",
      "\n",
      "natural_det_Linf\n"
     ]
    },
    {
     "name": "stderr",
     "output_type": "stream",
     "text": [
      "Using 16-bit Automatic Mixed Precision (AMP)\n",
      "100%|██████████| 5/5 [02:42<00:00, 32.51s/it]\n"
     ]
    },
    {
     "name": "stdout",
     "output_type": "stream",
     "text": [
      "[0.9998000264167786, 1.0, 0.9976000189781189, 1.0, 1.0, 0.9998000264167786, 0.9998000264167786, 0.9998000264167786, 1.0, 0.9998000264167786]\n",
      "\n",
      "uniform_L0\n"
     ]
    },
    {
     "name": "stderr",
     "output_type": "stream",
     "text": [
      "Using 16-bit Automatic Mixed Precision (AMP)\n",
      "100%|██████████| 5/5 [02:42<00:00, 32.52s/it]\n"
     ]
    },
    {
     "name": "stdout",
     "output_type": "stream",
     "text": [
      "[1.0, 0.9836890697479248, 0.9325553774833679, 1.0, 0.9884240627288818, 0.8388190865516663, 1.0, 0.3525976538658142, 0.14874586462974548, 1.0]\n",
      "\n",
      "uniform_L2\n"
     ]
    },
    {
     "name": "stderr",
     "output_type": "stream",
     "text": [
      "Using 16-bit Automatic Mixed Precision (AMP)\n",
      "100%|██████████| 5/5 [02:43<00:00, 32.63s/it]\n"
     ]
    },
    {
     "name": "stdout",
     "output_type": "stream",
     "text": [
      "[0.07638049125671387, 0.0, 0.0, 1.0, 0.0, 0.0, 0.9187073707580566, 0.0, 0.0, 0.9943752288818359]\n",
      "\n",
      "uniform_Linf\n"
     ]
    },
    {
     "name": "stderr",
     "output_type": "stream",
     "text": [
      "Using 16-bit Automatic Mixed Precision (AMP)\n",
      "100%|██████████| 5/5 [01:35<00:00, 19.04s/it]"
     ]
    },
    {
     "name": "stdout",
     "output_type": "stream",
     "text": [
      "[0.8597339987754822, 0.0, 0.0, 1.0, 0.0, 0.0, 1.0, 0.0, 0.0, 0.9995982050895691]\n",
      "\n"
     ]
    },
    {
     "name": "stderr",
     "output_type": "stream",
     "text": [
      "\n"
     ]
    }
   ],
   "source": [
    "Util('CIFAR10').test_all()"
   ]
  }
 ],
 "metadata": {
  "kernelspec": {
   "display_name": "Python 3",
   "language": "python",
   "name": "python3"
  },
  "language_info": {
   "codemirror_mode": {
    "name": "ipython",
    "version": 3
   },
   "file_extension": ".py",
   "mimetype": "text/x-python",
   "name": "python",
   "nbconvert_exporter": "python",
   "pygments_lexer": "ipython3",
   "version": "3.8.10"
  },
  "orig_nbformat": 4
 },
 "nbformat": 4,
 "nbformat_minor": 2
}
